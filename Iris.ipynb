{
 "cells": [
  {
   "cell_type": "code",
   "execution_count": null,
   "id": "776d381f-d588-4802-9ae3-6b66d7befe6e",
   "metadata": {},
   "outputs": [],
   "source": [
    "# import sklearn\n",
    "from sklearn.datasets import load_iris\n",
    "import numpy as np\n",
    "import pandas as pd\n",
    "from scipy import sparse\n",
    "import matplotlib.pyplot as plt\n",
    "from sklearn.linear_model import LinearRegression"
   ]
  },
  {
   "cell_type": "code",
   "execution_count": null,
   "id": "17560f36-7ac9-4af0-ab33-13307b82de13",
   "metadata": {},
   "outputs": [],
   "source": [
    "iris = load_iris()\n",
    "data = iris['data']\n",
    "target = iris['target']\n",
    "print(data.shape)\n",
    "print(type(data))\n",
    "      \n",
    "print(data[:3])"
   ]
  },
  {
   "cell_type": "code",
   "execution_count": null,
   "id": "95823d06-4a81-4fe7-ae54-69d0b0552a18",
   "metadata": {},
   "outputs": [],
   "source": [
    "iris['feature_names']"
   ]
  },
  {
   "cell_type": "code",
   "execution_count": null,
   "id": "b71cafe8-b852-4695-a2da-02f50902b083",
   "metadata": {},
   "outputs": [],
   "source": [
    "iris_df = pd.DataFrame(data=data, columns=iris['feature_names'])\n",
    "iris_df['species'] = target\n",
    "species_dict = dict(zip([0, 1, 2], iris['target_names']))\n",
    "iris_df['species'] = iris_df['species'].map(species_dict)    \n",
    "iris_df"
   ]
  },
  {
   "cell_type": "code",
   "execution_count": null,
   "id": "98b9096a-0c39-4f48-86f6-2c7f117072f0",
   "metadata": {},
   "outputs": [],
   "source": [
    "iris_df.info()"
   ]
  },
  {
   "cell_type": "code",
   "execution_count": null,
   "id": "1ed63214-cdc2-4455-885e-a4eab8019664",
   "metadata": {},
   "outputs": [],
   "source": [
    "iris_df.describe()"
   ]
  },
  {
   "cell_type": "code",
   "execution_count": null,
   "id": "1d587de1-573f-4c27-994a-7909980fa460",
   "metadata": {},
   "outputs": [],
   "source": [
    "i = np.identity(4)\n",
    "i"
   ]
  },
  {
   "cell_type": "code",
   "execution_count": null,
   "id": "048e8e8a-f0dc-4a5c-9e66-c7839758f9b1",
   "metadata": {},
   "outputs": [],
   "source": [
    "sparse_matrix = sparse.csr_matrix(i)\n",
    "sparse_matrix"
   ]
  },
  {
   "cell_type": "code",
   "execution_count": null,
   "id": "3976969d-065c-4476-8a7d-8d8e5f06c79c",
   "metadata": {},
   "outputs": [],
   "source": [
    "iris_df['species'].value_counts()"
   ]
  },
  {
   "cell_type": "code",
   "execution_count": null,
   "id": "1b355763-b00a-4fa4-951a-9a6fbfb8d6ad",
   "metadata": {},
   "outputs": [],
   "source": [
    "iris_df.species.value_counts().plot(kind='bar', table=True)"
   ]
  },
  {
   "cell_type": "code",
   "execution_count": null,
   "id": "4343954a-823f-4400-8576-b52e56debc8f",
   "metadata": {},
   "outputs": [],
   "source": [
    "iris_df.iloc[:, [0, 1, 2, 3]].value_counts()"
   ]
  },
  {
   "cell_type": "code",
   "execution_count": null,
   "id": "8122e5cf-d759-49da-b8c8-937355442871",
   "metadata": {},
   "outputs": [],
   "source": [
    "X = iris_df.iloc[:, 0].values.reshape(-1, 1)\n",
    "Y = iris_df.iloc[:, 1].values.reshape(-1, 1)\n",
    "lin_reg = LinearRegression()\n",
    "lin_reg.fit(X, Y)\n",
    "Y_Pred = lin_reg.predict(X)\n",
    "\n",
    "plt.scatter(X, Y)\n",
    "plt.plot(X, Y_Pred)\n",
    "plt.show()\n",
    "\n",
    "print(lin_reg.score(X, Y))"
   ]
  },
  {
   "cell_type": "code",
   "execution_count": null,
   "id": "0b3b2cf4-b598-409d-9766-a5789b625b32",
   "metadata": {},
   "outputs": [],
   "source": [
    "X = iris_df.iloc[:, 2].values.reshape(-1, 1)\n",
    "Y = iris_df.iloc[:, 3].values.reshape(-1, 1)\n",
    "lin_reg = LinearRegression()\n",
    "lin_reg.fit(X, Y)\n",
    "Y_Pred = lin_reg.predict(X)\n",
    "\n",
    "plt.scatter(X, Y)\n",
    "plt.plot(X, Y_Pred)\n",
    "plt.show()\n",
    "print(lin_reg.score(X, Y))\n",
    "print(lin_reg.get_params())"
   ]
  },
  {
   "cell_type": "code",
   "execution_count": null,
   "id": "0a51b257-8e46-4224-80a9-3f1ea22c3859",
   "metadata": {},
   "outputs": [],
   "source": [
    "iris_df"
   ]
  },
  {
   "cell_type": "code",
   "execution_count": null,
   "id": "03661357-f920-4117-ba11-c2ee37a2abab",
   "metadata": {},
   "outputs": [],
   "source": []
  }
 ],
 "metadata": {
  "kernelspec": {
   "display_name": "Python 3",
   "language": "python",
   "name": "python3"
  },
  "language_info": {
   "codemirror_mode": {
    "name": "ipython",
    "version": 3
   },
   "file_extension": ".py",
   "mimetype": "text/x-python",
   "name": "python",
   "nbconvert_exporter": "python",
   "pygments_lexer": "ipython3",
   "version": "3.9.13"
  }
 },
 "nbformat": 4,
 "nbformat_minor": 5
}
