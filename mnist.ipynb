{
 "cells": [
  {
   "cell_type": "code",
   "execution_count": 1,
   "id": "f7b80364-540c-4a47-93ae-f7045c600e82",
   "metadata": {},
   "outputs": [],
   "source": [
    "import pickle\n",
    "import gzip\n",
    "import numpy as np\n",
    "from sklearn import svm\n",
    "import matplotlib.pyplot as plt\n",
    "from sklearn.tree import DecisionTreeClassifier \n",
    "from sklearn.model_selection import train_test_split \n",
    "from sklearn import metrics \n",
    "# import bentoml"
   ]
  },
  {
   "cell_type": "markdown",
   "id": "341c4d0e-0b5a-4d9d-9b63-947cee973bc3",
   "metadata": {},
   "source": [
    "### Data Loading"
   ]
  },
  {
   "cell_type": "code",
   "execution_count": 2,
   "id": "f4d14d59-0e26-4f0d-81d3-7fb08f9da8d0",
   "metadata": {},
   "outputs": [],
   "source": [
    "f = gzip.open('mnist/DeepLearningPython/mnist.pkl.gz', 'rb')\n",
    "training_data, validation_data, test_data = pickle.load(f, encoding=\"latin1\")\n",
    "f.close()"
   ]
  },
  {
   "cell_type": "code",
   "execution_count": 3,
   "id": "58d5734c-af1c-4801-b7b1-017f5daf1f0e",
   "metadata": {},
   "outputs": [
    {
     "data": {
      "image/png": "[encoded data removed]",
      "text/plain": [
       "<Figure size 432x288 with 6 Axes>"
      ]
     },
     "metadata": {},
     "output_type": "display_data"
    }
   ],
   "source": [
    "fig = plt.figure()\n",
    "for i in range(6):\n",
    "    t = training_data[0][i]\n",
    "    t = t.reshape(-1, 28)\n",
    "    \n",
    "    \n",
    "    plt.subplot(2, 3, i+1)\n",
    "    plt.tight_layout()\n",
    "    plt.imshow(t, cmap=\"gray\", interpolation='none')\n",
    "    plt.title(f\"Ground Truth: {training_data[1][i]}\")\n",
    "    plt.xticks([])\n",
    "    plt.yticks([])"
   ]
  },
  {
   "cell_type": "markdown",
   "id": "afb47c8b-a051-4d78-8046-15c47c665b6f",
   "metadata": {},
   "source": [
    "### SVM for Baseline on MNIST Data"
   ]
  },
  {
   "cell_type": "code",
   "execution_count": 4,
   "id": "5ecaf912-085f-4af9-bf54-c9eca5d55194",
   "metadata": {},
   "outputs": [
    {
     "data": {
      "text/html": [
       "<style>#sk-container-id-1 {color: black;background-color: white;}#sk-container-id-1 pre{padding: 0;}#sk-container-id-1 div.sk-toggleable {background-color: white;}#sk-container-id-1 label.sk-toggleable__label {cursor: pointer;display: block;width: 100%;margin-bottom: 0;padding: 0.3em;box-sizing: border-box;text-align: center;}#sk-container-id-1 label.sk-toggleable__label-arrow:before {content: \"▸\";float: left;margin-right: 0.25em;color: #696969;}#sk-container-id-1 label.sk-toggleable__label-arrow:hover:before {color: black;}#sk-container-id-1 div.sk-estimator:hover label.sk-toggleable__label-arrow:before {color: black;}#sk-container-id-1 div.sk-toggleable__content {max-height: 0;max-width: 0;overflow: hidden;text-align: left;background-color: #f0f8ff;}#sk-container-id-1 div.sk-toggleable__content pre {margin: 0.2em;color: black;border-radius: 0.25em;background-color: #f0f8ff;}#sk-container-id-1 input.sk-toggleable__control:checked~div.sk-toggleable__content {max-height: 200px;max-width: 100%;overflow: auto;}#sk-container-id-1 input.sk-toggleable__control:checked~label.sk-toggleable__label-arrow:before {content: \"▾\";}#sk-container-id-1 div.sk-estimator input.sk-toggleable__control:checked~label.sk-toggleable__label {background-color: #d4ebff;}#sk-container-id-1 div.sk-label input.sk-toggleable__control:checked~label.sk-toggleable__label {background-color: #d4ebff;}#sk-container-id-1 input.sk-hidden--visually {border: 0;clip: rect(1px 1px 1px 1px);clip: rect(1px, 1px, 1px, 1px);height: 1px;margin: -1px;overflow: hidden;padding: 0;position: absolute;width: 1px;}#sk-container-id-1 div.sk-estimator {font-family: monospace;background-color: #f0f8ff;border: 1px dotted black;border-radius: 0.25em;box-sizing: border-box;margin-bottom: 0.5em;}#sk-container-id-1 div.sk-estimator:hover {background-color: #d4ebff;}#sk-container-id-1 div.sk-parallel-item::after {content: \"\";width: 100%;border-bottom: 1px solid gray;flex-grow: 1;}#sk-container-id-1 div.sk-label:hover label.sk-toggleable__label {background-color: #d4ebff;}#sk-container-id-1 div.sk-serial::before {content: \"\";position: absolute;border-left: 1px solid gray;box-sizing: border-box;top: 0;bottom: 0;left: 50%;z-index: 0;}#sk-container-id-1 div.sk-serial {display: flex;flex-direction: column;align-items: center;background-color: white;padding-right: 0.2em;padding-left: 0.2em;position: relative;}#sk-container-id-1 div.sk-item {position: relative;z-index: 1;}#sk-container-id-1 div.sk-parallel {display: flex;align-items: stretch;justify-content: center;background-color: white;position: relative;}#sk-container-id-1 div.sk-item::before, #sk-container-id-1 div.sk-parallel-item::before {content: \"\";position: absolute;border-left: 1px solid gray;box-sizing: border-box;top: 0;bottom: 0;left: 50%;z-index: -1;}#sk-container-id-1 div.sk-parallel-item {display: flex;flex-direction: column;z-index: 1;position: relative;background-color: white;}#sk-container-id-1 div.sk-parallel-item:first-child::after {align-self: flex-end;width: 50%;}#sk-container-id-1 div.sk-parallel-item:last-child::after {align-self: flex-start;width: 50%;}#sk-container-id-1 div.sk-parallel-item:only-child::after {width: 0;}#sk-container-id-1 div.sk-dashed-wrapped {border: 1px dashed gray;margin: 0 0.4em 0.5em 0.4em;box-sizing: border-box;padding-bottom: 0.4em;background-color: white;}#sk-container-id-1 div.sk-label label {font-family: monospace;font-weight: bold;display: inline-block;line-height: 1.2em;}#sk-container-id-1 div.sk-label-container {text-align: center;}#sk-container-id-1 div.sk-container {/* jupyter's `normalize.less` sets `[hidden] { display: none; }` but bootstrap.min.css set `[hidden] { display: none !important; }` so we also need the `!important` here to be able to override the default hidden behavior on the sphinx rendered scikit-learn.org. See: https://github.com/scikit-learn/scikit-learn/issues/21755 */display: inline-block !important;position: relative;}#sk-container-id-1 div.sk-text-repr-fallback {display: none;}</style><div id=\"sk-container-id-1\" class=\"sk-top-container\"><div class=\"sk-text-repr-fallback\"><pre>SVC()</pre><b>In a Jupyter environment, please rerun this cell to show the HTML representation or trust the notebook. <br />On GitHub, the HTML representation is unable to render, please try loading this page with nbviewer.org.</b></div><div class=\"sk-container\" hidden><div class=\"sk-item\"><div class=\"sk-estimator sk-toggleable\"><input class=\"sk-toggleable__control sk-hidden--visually\" id=\"sk-estimator-id-1\" type=\"checkbox\" checked><label for=\"sk-estimator-id-1\" class=\"sk-toggleable__label sk-toggleable__label-arrow\">SVC</label><div class=\"sk-toggleable__content\"><pre>SVC()</pre></div></div></div></div></div>"
      ],
      "text/plain": [
       "SVC()"
      ]
     },
     "execution_count": 4,
     "metadata": {},
     "output_type": "execute_result"
    }
   ],
   "source": [
    "clf = svm.SVC()\n",
    "clf.fit(training_data[0], training_data[1])"
   ]
  },
  {
   "cell_type": "code",
   "execution_count": 5,
   "id": "d45c06c3-c3c5-475c-84d4-22efd81a5018",
   "metadata": {},
   "outputs": [
    {
     "name": "stdout",
     "output_type": "stream",
     "text": [
      "Baseline classifier using an SVM.\n",
      "9785 of 10000 values correct.\n",
      "Accuracy: 0.9785\n"
     ]
    }
   ],
   "source": [
    "preds = [int(a) for a in clf.predict(test_data[0])]\n",
    "num_correct = sum(int(a==y) for a, y in zip(preds, test_data[1]))\n",
    "print(\"Baseline classifier using an SVM.\")\n",
    "print(str(num_correct) + \" of \" + str(len(test_data[1])) + \" values correct.\")\n",
    "print(f\"Accuracy: {num_correct/len(test_data[1])}\")"
   ]
  },
  {
   "cell_type": "code",
   "execution_count": 6,
   "id": "a85bc1fe-8c89-42c9-a32a-8afcd74f41fa",
   "metadata": {},
   "outputs": [
    {
     "data": {
      "text/html": [
       "<style>#sk-container-id-2 {color: black;background-color: white;}#sk-container-id-2 pre{padding: 0;}#sk-container-id-2 div.sk-toggleable {background-color: white;}#sk-container-id-2 label.sk-toggleable__label {cursor: pointer;display: block;width: 100%;margin-bottom: 0;padding: 0.3em;box-sizing: border-box;text-align: center;}#sk-container-id-2 label.sk-toggleable__label-arrow:before {content: \"▸\";float: left;margin-right: 0.25em;color: #696969;}#sk-container-id-2 label.sk-toggleable__label-arrow:hover:before {color: black;}#sk-container-id-2 div.sk-estimator:hover label.sk-toggleable__label-arrow:before {color: black;}#sk-container-id-2 div.sk-toggleable__content {max-height: 0;max-width: 0;overflow: hidden;text-align: left;background-color: #f0f8ff;}#sk-container-id-2 div.sk-toggleable__content pre {margin: 0.2em;color: black;border-radius: 0.25em;background-color: #f0f8ff;}#sk-container-id-2 input.sk-toggleable__control:checked~div.sk-toggleable__content {max-height: 200px;max-width: 100%;overflow: auto;}#sk-container-id-2 input.sk-toggleable__control:checked~label.sk-toggleable__label-arrow:before {content: \"▾\";}#sk-container-id-2 div.sk-estimator input.sk-toggleable__control:checked~label.sk-toggleable__label {background-color: #d4ebff;}#sk-container-id-2 div.sk-label input.sk-toggleable__control:checked~label.sk-toggleable__label {background-color: #d4ebff;}#sk-container-id-2 input.sk-hidden--visually {border: 0;clip: rect(1px 1px 1px 1px);clip: rect(1px, 1px, 1px, 1px);height: 1px;margin: -1px;overflow: hidden;padding: 0;position: absolute;width: 1px;}#sk-container-id-2 div.sk-estimator {font-family: monospace;background-color: #f0f8ff;border: 1px dotted black;border-radius: 0.25em;box-sizing: border-box;margin-bottom: 0.5em;}#sk-container-id-2 div.sk-estimator:hover {background-color: #d4ebff;}#sk-container-id-2 div.sk-parallel-item::after {content: \"\";width: 100%;border-bottom: 1px solid gray;flex-grow: 1;}#sk-container-id-2 div.sk-label:hover label.sk-toggleable__label {background-color: #d4ebff;}#sk-container-id-2 div.sk-serial::before {content: \"\";position: absolute;border-left: 1px solid gray;box-sizing: border-box;top: 0;bottom: 0;left: 50%;z-index: 0;}#sk-container-id-2 div.sk-serial {display: flex;flex-direction: column;align-items: center;background-color: white;padding-right: 0.2em;padding-left: 0.2em;position: relative;}#sk-container-id-2 div.sk-item {position: relative;z-index: 1;}#sk-container-id-2 div.sk-parallel {display: flex;align-items: stretch;justify-content: center;background-color: white;position: relative;}#sk-container-id-2 div.sk-item::before, #sk-container-id-2 div.sk-parallel-item::before {content: \"\";position: absolute;border-left: 1px solid gray;box-sizing: border-box;top: 0;bottom: 0;left: 50%;z-index: -1;}#sk-container-id-2 div.sk-parallel-item {display: flex;flex-direction: column;z-index: 1;position: relative;background-color: white;}#sk-container-id-2 div.sk-parallel-item:first-child::after {align-self: flex-end;width: 50%;}#sk-container-id-2 div.sk-parallel-item:last-child::after {align-self: flex-start;width: 50%;}#sk-container-id-2 div.sk-parallel-item:only-child::after {width: 0;}#sk-container-id-2 div.sk-dashed-wrapped {border: 1px dashed gray;margin: 0 0.4em 0.5em 0.4em;box-sizing: border-box;padding-bottom: 0.4em;background-color: white;}#sk-container-id-2 div.sk-label label {font-family: monospace;font-weight: bold;display: inline-block;line-height: 1.2em;}#sk-container-id-2 div.sk-label-container {text-align: center;}#sk-container-id-2 div.sk-container {/* jupyter's `normalize.less` sets `[hidden] { display: none; }` but bootstrap.min.css set `[hidden] { display: none !important; }` so we also need the `!important` here to be able to override the default hidden behavior on the sphinx rendered scikit-learn.org. See: https://github.com/scikit-learn/scikit-learn/issues/21755 */display: inline-block !important;position: relative;}#sk-container-id-2 div.sk-text-repr-fallback {display: none;}</style><div id=\"sk-container-id-2\" class=\"sk-top-container\"><div class=\"sk-text-repr-fallback\"><pre>DecisionTreeClassifier(criterion=&#x27;entropy&#x27;, max_depth=100)</pre><b>In a Jupyter environment, please rerun this cell to show the HTML representation or trust the notebook. <br />On GitHub, the HTML representation is unable to render, please try loading this page with nbviewer.org.</b></div><div class=\"sk-container\" hidden><div class=\"sk-item\"><div class=\"sk-estimator sk-toggleable\"><input class=\"sk-toggleable__control sk-hidden--visually\" id=\"sk-estimator-id-2\" type=\"checkbox\" checked><label for=\"sk-estimator-id-2\" class=\"sk-toggleable__label sk-toggleable__label-arrow\">DecisionTreeClassifier</label><div class=\"sk-toggleable__content\"><pre>DecisionTreeClassifier(criterion=&#x27;entropy&#x27;, max_depth=100)</pre></div></div></div></div></div>"
      ],
      "text/plain": [
       "DecisionTreeClassifier(criterion='entropy', max_depth=100)"
      ]
     },
     "execution_count": 6,
     "metadata": {},
     "output_type": "execute_result"
    }
   ],
   "source": [
    "clf = DecisionTreeClassifier(criterion=\"entropy\", max_depth=100)\n",
    "clf.fit(training_data[0], training_data[1])"
   ]
  },
  {
   "cell_type": "code",
   "execution_count": 7,
   "id": "567a1e16-cb7f-4896-bbbb-65d2774943d0",
   "metadata": {},
   "outputs": [
    {
     "name": "stdout",
     "output_type": "stream",
     "text": [
      "Baseline classifier using a Decision Tree.\n",
      "8827 of 10000 values correct.\n",
      "Accuracy: 0.8827\n"
     ]
    }
   ],
   "source": [
    "preds = [int(a) for a in clf.predict(test_data[0])]\n",
    "num_correct = sum(int(a==y) for a, y in zip(preds, test_data[1]))\n",
    "print(\"Baseline classifier using a Decision Tree.\")\n",
    "print(str(num_correct) + \" of \" + str(len(test_data[1])) + \" values correct.\")\n",
    "print(f\"Accuracy: {num_correct/len(test_data[1])}\")"
   ]
  },
  {
   "cell_type": "markdown",
   "id": "430becd4-e2ef-4372-919c-68550708ec95",
   "metadata": {},
   "source": [
    "### Network"
   ]
  },
  {
   "cell_type": "code",
   "execution_count": 8,
   "id": "5d9d18ee-b06b-406f-97a3-0f790dc9a081",
   "metadata": {},
   "outputs": [
    {
     "name": "stderr",
     "output_type": "stream",
     "text": [
      "/opt/miniconda3/lib/python3.9/site-packages/requests/__init__.py:102: RequestsDependencyWarning: urllib3 (1.26.8) or chardet (5.1.0)/charset_normalizer (2.0.4) doesn't match a supported version!\n",
      "  warnings.warn(\"urllib3 ({}) or chardet ({})/charset_normalizer ({}) doesn't match a supported \"\n"
     ]
    }
   ],
   "source": [
    "import torch\n",
    "import torch.nn as nn\n",
    "import torch.nn.functional as F\n",
    "import torch.optim as optim\n",
    "from torch import tensor\n",
    "from torch.utils.data import TensorDataset, DataLoader\n",
    "from torchvision.datasets import MNIST\n",
    "from torchvision.transforms import Compose, ToTensor, Normalize"
   ]
  },
  {
   "cell_type": "code",
   "execution_count": 9,
   "id": "a450b569-0cfb-4092-851f-6a573e1051b5",
   "metadata": {},
   "outputs": [],
   "source": [
    "# train_loader = DataLoader(\n",
    "#   MNIST('./files/', train=True, download=True,\n",
    "#                              transform=Compose([\n",
    "#                                ToTensor(),\n",
    "#                                Normalize(\n",
    "#                                  (0.1307,), (0.3081,))\n",
    "#                              ])),\n",
    "#   batch_size=batch_size_train, shuffle=True)\n",
    "\n",
    "# test_loader = DataLoader(\n",
    "#   MNIST('./files/', train=False, download=True,\n",
    "#                              transform=Compose([\n",
    "#                                ToTensor(),\n",
    "#                                Normalize(\n",
    "#                                  (0.1307,), (0.3081,))\n",
    "#                              ])),\n",
    "#   batch_size=batch_size_test, shuffle=True)"
   ]
  },
  {
   "cell_type": "code",
   "execution_count": 10,
   "id": "509988df-b73c-4416-821d-9e6e319248ee",
   "metadata": {},
   "outputs": [],
   "source": [
    "# print(len(train_loader))\n",
    "# print(len(train_loader.dataset))"
   ]
  },
  {
   "cell_type": "markdown",
   "id": "3a403091-b296-4e56-a6e6-19fdbd6fc48f",
   "metadata": {},
   "source": [
    "#### Model"
   ]
  },
  {
   "cell_type": "code",
   "execution_count": 11,
   "id": "e5e40fd5-bc1c-43d8-9239-f241a12fd29d",
   "metadata": {},
   "outputs": [
    {
     "data": {
      "text/plain": [
       "<torch._C.Generator at 0x1272b4250>"
      ]
     },
     "execution_count": 11,
     "metadata": {},
     "output_type": "execute_result"
    }
   ],
   "source": [
    "n_epochs = 40\n",
    "batch_size_train = 64\n",
    "batch_size_test = 1000\n",
    "learning_rate = 0.008\n",
    "momentum = 0.5\n",
    "log_interval = 100\n",
    "\n",
    "random_seed = 1\n",
    "torch.backends.cudnn.enabled = False\n",
    "torch.manual_seed(random_seed)"
   ]
  },
  {
   "cell_type": "code",
   "execution_count": 12,
   "id": "602bc313-3ee3-470a-9293-2c2ccbee995d",
   "metadata": {},
   "outputs": [],
   "source": [
    "f = gzip.open('mnist/DeepLearningPython/mnist.pkl.gz', 'rb')\n",
    "training_data, validation_data, test_data = pickle.load(f, encoding=\"latin1\")\n",
    "f.close()"
   ]
  },
  {
   "cell_type": "code",
   "execution_count": 13,
   "id": "acfe1455-9bc4-4ee2-b110-66fc22ced4af",
   "metadata": {},
   "outputs": [
    {
     "name": "stderr",
     "output_type": "stream",
     "text": [
      "<ipython-input-13-5f158124eb9d>:5: UserWarning: Creating a tensor from a list of numpy.ndarrays is extremely slow. Please consider converting the list to a single numpy.ndarray with numpy.array() before converting to a tensor. (Triggered internally at /Users/runner/work/_temp/anaconda/conda-bld/pytorch_1682343686209/work/torch/csrc/utils/tensor_new.cpp:248.)\n",
      "  training_data = TensorDataset(tensor(train_2d), tensor(training_data[1]))\n"
     ]
    }
   ],
   "source": [
    "train_2d = [im.reshape(-1, 28) for im in training_data[0]]\n",
    "test_2d = [im.reshape(-1, 28) for im in test_data[0]]\n",
    "valid_2d = [im.reshape(-1, 28) for im in validation_data[0]]\n",
    "\n",
    "training_data = TensorDataset(tensor(train_2d), tensor(training_data[1]))\n",
    "train_loader = DataLoader(training_data, batch_size=batch_size_train, shuffle=True)\n",
    "test_data = TensorDataset(tensor(test_2d), tensor(test_data[1]))\n",
    "test_loader = DataLoader(test_data, batch_size=batch_size_test, shuffle=True)\n",
    "# validation_data = TensorDataset(tensor(valid_2d), tensor(validation_data[1]))\n",
    "# validation_loader = DataLoader(validation_data)"
   ]
  },
  {
   "cell_type": "code",
   "execution_count": 14,
   "id": "7c0dcadc-e798-49fa-83ca-f68688bd8cfe",
   "metadata": {},
   "outputs": [
    {
     "data": {
      "text/plain": [
       "50000"
      ]
     },
     "execution_count": 14,
     "metadata": {},
     "output_type": "execute_result"
    }
   ],
   "source": [
    "len(train_2d)"
   ]
  },
  {
   "cell_type": "code",
   "execution_count": 15,
   "id": "588d8ea9-2517-44f8-a9bb-5804b7557170",
   "metadata": {},
   "outputs": [],
   "source": [
    "class Network(nn.Module):\n",
    "    def __init__(self):\n",
    "        super(Network, self).__init__()\n",
    "        self.conv1 = nn.Conv2d(1, 10, kernel_size=5)\n",
    "        self.conv2 = nn.Conv2d(10, 20, kernel_size=5)\n",
    "        self.conv2_drop = nn.Dropout2d()\n",
    "        self.fc1 = nn.Linear(320, 50)\n",
    "        self.fc2 = nn.Linear(50, 10)\n",
    "        \n",
    "    def forward(self, x):\n",
    "        x = F.relu(F.max_pool2d(self.conv1(x), 2))\n",
    "        # x = F.relu(F.max_pool2d(self.conv2_drop(self.conv2(x)), 2))\n",
    "        x = F.relu(F.max_pool2d(self.conv2(x), 2))\n",
    "        x = x.view(-1, 320)\n",
    "        x = F.relu(self.fc1(x))\n",
    "        x = F.dropout(x, training=self.training)\n",
    "        x = self.fc2(x)\n",
    "        return F.log_softmax(x)\n"
   ]
  },
  {
   "cell_type": "code",
   "execution_count": 16,
   "id": "04d6d79b-16be-4046-a022-7b968f5c8803",
   "metadata": {},
   "outputs": [],
   "source": [
    "network = Network()\n",
    "optimizer = optim.SGD(network.parameters(), lr=learning_rate)"
   ]
  },
  {
   "cell_type": "markdown",
   "id": "25d2352e-9ea4-458d-a9cc-5681ff72a343",
   "metadata": {},
   "source": [
    "#### Training"
   ]
  },
  {
   "cell_type": "code",
   "execution_count": 17,
   "id": "3b569711-36c9-491f-9bf5-8f77267502ad",
   "metadata": {},
   "outputs": [],
   "source": [
    "train_losses = []\n",
    "train_counter = []\n",
    "test_losses = []\n",
    "test_counter = [i*len(train_loader.dataset) for i in range(n_epochs+1)]\n",
    "\n",
    "def train(epoch):\n",
    "    network.train()\n",
    "    for batch_idx, (data, target) in enumerate(train_loader):\n",
    "        data = data.reshape(-1, 1, 28, 28)\n",
    "        optimizer.zero_grad()\n",
    "        output = network(data)\n",
    "        loss = F.nll_loss(output, target)\n",
    "        loss.backward()\n",
    "        optimizer.step()\n",
    "        if batch_idx % log_interval == 0:\n",
    "            print('Train Epoch: {} [{}/{} ({:.0f}%)]\\tLoss: {:.6f}'.format(epoch, batch_idx * len(data), len(train_loader.dataset),100. * batch_idx / len(train_loader), loss.item()))\n",
    "            train_losses.append(loss.item())\n",
    "            train_counter.append((batch_idx*64) + ((epoch-1)*len(train_loader.dataset)))\n",
    "            torch.save(network.state_dict(), './results/model.pth')\n",
    "            torch.save(optimizer.state_dict(), './results/optimizer.pth')\n",
    "            "
   ]
  },
  {
   "cell_type": "code",
   "execution_count": 18,
   "id": "55bd430c-3aaa-430a-9c61-7add42a8ffd2",
   "metadata": {},
   "outputs": [],
   "source": [
    "def test():\n",
    "    network.eval()\n",
    "    test_loss = 0\n",
    "    correct = 0\n",
    "    with torch.no_grad():\n",
    "        for data, target in test_loader:\n",
    "            data = data.reshape(-1, 1, 28, 28)\n",
    "            output = network(data)\n",
    "            test_loss += F.nll_loss(output, target, size_average=False).item()\n",
    "            pred = output.data.max(1, keepdim=True)[1]\n",
    "            correct += pred.eq(target.data.view_as(pred)).sum()\n",
    "    test_loss /= len(test_loader.dataset)\n",
    "    test_losses.append(test_loss)\n",
    "    print(f'\\nTest set: Avg. loss: {test_loss}, Accuracy: {correct}/{len(test_loader.dataset)} ({100. * correct / len(test_loader.dataset)}%)\\n')"
   ]
  },
  {
   "cell_type": "code",
   "execution_count": 19,
   "id": "9209b56b-6081-4449-be81-802d02abb863",
   "metadata": {
    "collapsed": true,
    "jupyter": {
     "outputs_hidden": true
    },
    "tags": []
   },
   "outputs": [
    {
     "name": "stderr",
     "output_type": "stream",
     "text": [
      "<ipython-input-15-2b8acc169c88>:18: UserWarning: Implicit dimension choice for log_softmax has been deprecated. Change the call to include dim=X as an argument.\n",
      "  return F.log_softmax(x)\n",
      "/opt/miniconda3/lib/python3.9/site-packages/torch/nn/_reduction.py:42: UserWarning: size_average and reduce args will be deprecated, please use reduction='sum' instead.\n",
      "  warnings.warn(warning.format(ret))\n"
     ]
    },
    {
     "name": "stdout",
     "output_type": "stream",
     "text": [
      "\n",
      "Test set: Avg. loss: 2.312046240234375, Accuracy: 1135/10000 (11.350000381469727%)\n",
      "\n",
      "Train Epoch: 1 [0/50000 (0%)]\tLoss: 2.331249\n",
      "Train Epoch: 1 [6400/50000 (13%)]\tLoss: 2.306489\n",
      "Train Epoch: 1 [12800/50000 (26%)]\tLoss: 2.279971\n",
      "Train Epoch: 1 [19200/50000 (38%)]\tLoss: 2.239891\n",
      "Train Epoch: 1 [25600/50000 (51%)]\tLoss: 2.212568\n",
      "Train Epoch: 1 [32000/50000 (64%)]\tLoss: 2.075649\n",
      "Train Epoch: 1 [38400/50000 (77%)]\tLoss: 1.809108\n",
      "Train Epoch: 1 [44800/50000 (90%)]\tLoss: 1.447141\n",
      "\n",
      "Test set: Avg. loss: 1.10734013671875, Accuracy: 7222/10000 (72.22000122070312%)\n",
      "\n",
      "Train Epoch: 2 [0/50000 (0%)]\tLoss: 1.371964\n",
      "Train Epoch: 2 [6400/50000 (13%)]\tLoss: 1.210988\n",
      "Train Epoch: 2 [12800/50000 (26%)]\tLoss: 1.079984\n",
      "Train Epoch: 2 [19200/50000 (38%)]\tLoss: 0.762920\n",
      "Train Epoch: 2 [25600/50000 (51%)]\tLoss: 0.923408\n",
      "Train Epoch: 2 [32000/50000 (64%)]\tLoss: 0.523650\n",
      "Train Epoch: 2 [38400/50000 (77%)]\tLoss: 0.758313\n",
      "Train Epoch: 2 [44800/50000 (90%)]\tLoss: 0.640798\n",
      "\n",
      "Test set: Avg. loss: 0.41659173583984377, Accuracy: 8867/10000 (88.66999816894531%)\n",
      "\n",
      "Train Epoch: 3 [0/50000 (0%)]\tLoss: 0.702487\n",
      "Train Epoch: 3 [6400/50000 (13%)]\tLoss: 1.119501\n",
      "Train Epoch: 3 [12800/50000 (26%)]\tLoss: 0.552522\n",
      "Train Epoch: 3 [19200/50000 (38%)]\tLoss: 0.389148\n",
      "Train Epoch: 3 [25600/50000 (51%)]\tLoss: 0.446680\n",
      "Train Epoch: 3 [32000/50000 (64%)]\tLoss: 0.469124\n",
      "Train Epoch: 3 [38400/50000 (77%)]\tLoss: 0.464924\n",
      "Train Epoch: 3 [44800/50000 (90%)]\tLoss: 0.376515\n",
      "\n",
      "Test set: Avg. loss: 0.2733318420410156, Accuracy: 9235/10000 (92.3499984741211%)\n",
      "\n",
      "Train Epoch: 4 [0/50000 (0%)]\tLoss: 0.361730\n",
      "Train Epoch: 4 [6400/50000 (13%)]\tLoss: 0.542284\n",
      "Train Epoch: 4 [12800/50000 (26%)]\tLoss: 0.676062\n",
      "Train Epoch: 4 [19200/50000 (38%)]\tLoss: 0.343207\n",
      "Train Epoch: 4 [25600/50000 (51%)]\tLoss: 0.314957\n",
      "Train Epoch: 4 [32000/50000 (64%)]\tLoss: 0.386005\n",
      "Train Epoch: 4 [38400/50000 (77%)]\tLoss: 0.363933\n",
      "Train Epoch: 4 [44800/50000 (90%)]\tLoss: 0.330226\n",
      "\n",
      "Test set: Avg. loss: 0.20546324615478515, Accuracy: 9388/10000 (93.87999725341797%)\n",
      "\n",
      "Train Epoch: 5 [0/50000 (0%)]\tLoss: 0.311298\n",
      "Train Epoch: 5 [6400/50000 (13%)]\tLoss: 0.454071\n",
      "Train Epoch: 5 [12800/50000 (26%)]\tLoss: 0.330477\n",
      "Train Epoch: 5 [19200/50000 (38%)]\tLoss: 0.335609\n",
      "Train Epoch: 5 [25600/50000 (51%)]\tLoss: 0.352503\n",
      "Train Epoch: 5 [32000/50000 (64%)]\tLoss: 0.211103\n",
      "Train Epoch: 5 [38400/50000 (77%)]\tLoss: 0.457147\n",
      "Train Epoch: 5 [44800/50000 (90%)]\tLoss: 0.298608\n",
      "\n",
      "Test set: Avg. loss: 0.17950756225585937, Accuracy: 9446/10000 (94.45999908447266%)\n",
      "\n",
      "Train Epoch: 6 [0/50000 (0%)]\tLoss: 0.254500\n",
      "Train Epoch: 6 [6400/50000 (13%)]\tLoss: 0.603484\n",
      "Train Epoch: 6 [12800/50000 (26%)]\tLoss: 0.209838\n",
      "Train Epoch: 6 [19200/50000 (38%)]\tLoss: 0.395996\n",
      "Train Epoch: 6 [25600/50000 (51%)]\tLoss: 0.439106\n",
      "Train Epoch: 6 [32000/50000 (64%)]\tLoss: 0.159418\n",
      "Train Epoch: 6 [38400/50000 (77%)]\tLoss: 0.530117\n",
      "Train Epoch: 6 [44800/50000 (90%)]\tLoss: 0.344393\n",
      "\n",
      "Test set: Avg. loss: 0.15054157867431642, Accuracy: 9520/10000 (95.19999694824219%)\n",
      "\n",
      "Train Epoch: 7 [0/50000 (0%)]\tLoss: 0.225491\n",
      "Train Epoch: 7 [6400/50000 (13%)]\tLoss: 0.203856\n",
      "Train Epoch: 7 [12800/50000 (26%)]\tLoss: 0.223054\n",
      "Train Epoch: 7 [19200/50000 (38%)]\tLoss: 0.456810\n",
      "Train Epoch: 7 [25600/50000 (51%)]\tLoss: 0.275644\n",
      "Train Epoch: 7 [32000/50000 (64%)]\tLoss: 0.481588\n",
      "Train Epoch: 7 [38400/50000 (77%)]\tLoss: 0.230153\n",
      "Train Epoch: 7 [44800/50000 (90%)]\tLoss: 0.222834\n",
      "\n",
      "Test set: Avg. loss: 0.13220641479492187, Accuracy: 9600/10000 (96.0%)\n",
      "\n",
      "Train Epoch: 8 [0/50000 (0%)]\tLoss: 0.147685\n",
      "Train Epoch: 8 [6400/50000 (13%)]\tLoss: 0.297238\n",
      "Train Epoch: 8 [12800/50000 (26%)]\tLoss: 0.257942\n",
      "Train Epoch: 8 [19200/50000 (38%)]\tLoss: 0.407459\n",
      "Train Epoch: 8 [25600/50000 (51%)]\tLoss: 0.328900\n",
      "Train Epoch: 8 [32000/50000 (64%)]\tLoss: 0.135548\n",
      "Train Epoch: 8 [38400/50000 (77%)]\tLoss: 0.262455\n",
      "Train Epoch: 8 [44800/50000 (90%)]\tLoss: 0.336995\n",
      "\n",
      "Test set: Avg. loss: 0.12910602798461915, Accuracy: 9590/10000 (95.9000015258789%)\n",
      "\n",
      "Train Epoch: 9 [0/50000 (0%)]\tLoss: 0.276165\n",
      "Train Epoch: 9 [6400/50000 (13%)]\tLoss: 0.129237\n",
      "Train Epoch: 9 [12800/50000 (26%)]\tLoss: 0.335638\n",
      "Train Epoch: 9 [19200/50000 (38%)]\tLoss: 0.161156\n",
      "Train Epoch: 9 [25600/50000 (51%)]\tLoss: 0.192812\n",
      "Train Epoch: 9 [32000/50000 (64%)]\tLoss: 0.223794\n",
      "Train Epoch: 9 [38400/50000 (77%)]\tLoss: 0.133185\n",
      "Train Epoch: 9 [44800/50000 (90%)]\tLoss: 0.239948\n",
      "\n",
      "Test set: Avg. loss: 0.10444496307373047, Accuracy: 9682/10000 (96.81999969482422%)\n",
      "\n",
      "Train Epoch: 10 [0/50000 (0%)]\tLoss: 0.124657\n",
      "Train Epoch: 10 [6400/50000 (13%)]\tLoss: 0.359216\n",
      "Train Epoch: 10 [12800/50000 (26%)]\tLoss: 0.402436\n",
      "Train Epoch: 10 [19200/50000 (38%)]\tLoss: 0.231941\n",
      "Train Epoch: 10 [25600/50000 (51%)]\tLoss: 0.246660\n",
      "Train Epoch: 10 [32000/50000 (64%)]\tLoss: 0.180453\n",
      "Train Epoch: 10 [38400/50000 (77%)]\tLoss: 0.289787\n",
      "Train Epoch: 10 [44800/50000 (90%)]\tLoss: 0.334483\n",
      "\n",
      "Test set: Avg. loss: 0.10550822830200195, Accuracy: 9676/10000 (96.76000213623047%)\n",
      "\n",
      "Train Epoch: 11 [0/50000 (0%)]\tLoss: 0.331421\n",
      "Train Epoch: 11 [6400/50000 (13%)]\tLoss: 0.283195\n",
      "Train Epoch: 11 [12800/50000 (26%)]\tLoss: 0.178972\n",
      "Train Epoch: 11 [19200/50000 (38%)]\tLoss: 0.346260\n",
      "Train Epoch: 11 [25600/50000 (51%)]\tLoss: 0.229292\n",
      "Train Epoch: 11 [32000/50000 (64%)]\tLoss: 0.093743\n",
      "Train Epoch: 11 [38400/50000 (77%)]\tLoss: 0.255659\n",
      "Train Epoch: 11 [44800/50000 (90%)]\tLoss: 0.325191\n",
      "\n",
      "Test set: Avg. loss: 0.09477924423217773, Accuracy: 9698/10000 (96.9800033569336%)\n",
      "\n",
      "Train Epoch: 12 [0/50000 (0%)]\tLoss: 0.252629\n",
      "Train Epoch: 12 [6400/50000 (13%)]\tLoss: 0.199632\n",
      "Train Epoch: 12 [12800/50000 (26%)]\tLoss: 0.156720\n",
      "Train Epoch: 12 [19200/50000 (38%)]\tLoss: 0.114691\n",
      "Train Epoch: 12 [25600/50000 (51%)]\tLoss: 0.141355\n",
      "Train Epoch: 12 [32000/50000 (64%)]\tLoss: 0.198132\n",
      "Train Epoch: 12 [38400/50000 (77%)]\tLoss: 0.093144\n",
      "Train Epoch: 12 [44800/50000 (90%)]\tLoss: 0.176649\n",
      "\n",
      "Test set: Avg. loss: 0.09563829803466797, Accuracy: 9721/10000 (97.20999908447266%)\n",
      "\n",
      "Train Epoch: 13 [0/50000 (0%)]\tLoss: 0.296285\n",
      "Train Epoch: 13 [6400/50000 (13%)]\tLoss: 0.114527\n",
      "Train Epoch: 13 [12800/50000 (26%)]\tLoss: 0.201281\n",
      "Train Epoch: 13 [19200/50000 (38%)]\tLoss: 0.147553\n",
      "Train Epoch: 13 [25600/50000 (51%)]\tLoss: 0.106377\n",
      "Train Epoch: 13 [32000/50000 (64%)]\tLoss: 0.157027\n",
      "Train Epoch: 13 [38400/50000 (77%)]\tLoss: 0.113101\n",
      "Train Epoch: 13 [44800/50000 (90%)]\tLoss: 0.237181\n",
      "\n",
      "Test set: Avg. loss: 0.08135520629882813, Accuracy: 9732/10000 (97.31999969482422%)\n",
      "\n",
      "Train Epoch: 14 [0/50000 (0%)]\tLoss: 0.307744\n",
      "Train Epoch: 14 [6400/50000 (13%)]\tLoss: 0.116868\n",
      "Train Epoch: 14 [12800/50000 (26%)]\tLoss: 0.137947\n",
      "Train Epoch: 14 [19200/50000 (38%)]\tLoss: 0.092640\n",
      "Train Epoch: 14 [25600/50000 (51%)]\tLoss: 0.169432\n",
      "Train Epoch: 14 [32000/50000 (64%)]\tLoss: 0.139509\n",
      "Train Epoch: 14 [38400/50000 (77%)]\tLoss: 0.091336\n",
      "Train Epoch: 14 [44800/50000 (90%)]\tLoss: 0.087164\n",
      "\n",
      "Test set: Avg. loss: 0.08038262443542481, Accuracy: 9752/10000 (97.5199966430664%)\n",
      "\n",
      "Train Epoch: 15 [0/50000 (0%)]\tLoss: 0.171118\n",
      "Train Epoch: 15 [6400/50000 (13%)]\tLoss: 0.127861\n",
      "Train Epoch: 15 [12800/50000 (26%)]\tLoss: 0.092999\n",
      "Train Epoch: 15 [19200/50000 (38%)]\tLoss: 0.197250\n",
      "Train Epoch: 15 [25600/50000 (51%)]\tLoss: 0.165948\n",
      "Train Epoch: 15 [32000/50000 (64%)]\tLoss: 0.100994\n",
      "Train Epoch: 15 [38400/50000 (77%)]\tLoss: 0.095546\n",
      "Train Epoch: 15 [44800/50000 (90%)]\tLoss: 0.123215\n",
      "\n",
      "Test set: Avg. loss: 0.08142496757507324, Accuracy: 9726/10000 (97.26000213623047%)\n",
      "\n",
      "Train Epoch: 16 [0/50000 (0%)]\tLoss: 0.091617\n",
      "Train Epoch: 16 [6400/50000 (13%)]\tLoss: 0.096408\n",
      "Train Epoch: 16 [12800/50000 (26%)]\tLoss: 0.193196\n",
      "Train Epoch: 16 [19200/50000 (38%)]\tLoss: 0.283321\n",
      "Train Epoch: 16 [25600/50000 (51%)]\tLoss: 0.074752\n",
      "Train Epoch: 16 [32000/50000 (64%)]\tLoss: 0.143657\n",
      "Train Epoch: 16 [38400/50000 (77%)]\tLoss: 0.077650\n",
      "Train Epoch: 16 [44800/50000 (90%)]\tLoss: 0.112423\n",
      "\n",
      "Test set: Avg. loss: 0.08018664245605468, Accuracy: 9747/10000 (97.47000122070312%)\n",
      "\n",
      "Train Epoch: 17 [0/50000 (0%)]\tLoss: 0.240785\n",
      "Train Epoch: 17 [6400/50000 (13%)]\tLoss: 0.089772\n",
      "Train Epoch: 17 [12800/50000 (26%)]\tLoss: 0.103209\n",
      "Train Epoch: 17 [19200/50000 (38%)]\tLoss: 0.132258\n",
      "Train Epoch: 17 [25600/50000 (51%)]\tLoss: 0.098796\n",
      "Train Epoch: 17 [32000/50000 (64%)]\tLoss: 0.117984\n",
      "Train Epoch: 17 [38400/50000 (77%)]\tLoss: 0.229495\n",
      "Train Epoch: 17 [44800/50000 (90%)]\tLoss: 0.078838\n",
      "\n",
      "Test set: Avg. loss: 0.07590586128234864, Accuracy: 9754/10000 (97.54000091552734%)\n",
      "\n",
      "Train Epoch: 18 [0/50000 (0%)]\tLoss: 0.210905\n",
      "Train Epoch: 18 [6400/50000 (13%)]\tLoss: 0.186548\n",
      "Train Epoch: 18 [12800/50000 (26%)]\tLoss: 0.120480\n",
      "Train Epoch: 18 [19200/50000 (38%)]\tLoss: 0.060285\n",
      "Train Epoch: 18 [25600/50000 (51%)]\tLoss: 0.048027\n",
      "Train Epoch: 18 [32000/50000 (64%)]\tLoss: 0.102715\n",
      "Train Epoch: 18 [38400/50000 (77%)]\tLoss: 0.107113\n",
      "Train Epoch: 18 [44800/50000 (90%)]\tLoss: 0.103182\n",
      "\n",
      "Test set: Avg. loss: 0.06866528663635253, Accuracy: 9776/10000 (97.76000213623047%)\n",
      "\n",
      "Train Epoch: 19 [0/50000 (0%)]\tLoss: 0.144968\n",
      "Train Epoch: 19 [6400/50000 (13%)]\tLoss: 0.103312\n",
      "Train Epoch: 19 [12800/50000 (26%)]\tLoss: 0.141291\n",
      "Train Epoch: 19 [19200/50000 (38%)]\tLoss: 0.212604\n",
      "Train Epoch: 19 [25600/50000 (51%)]\tLoss: 0.149181\n",
      "Train Epoch: 19 [32000/50000 (64%)]\tLoss: 0.115506\n",
      "Train Epoch: 19 [38400/50000 (77%)]\tLoss: 0.076715\n",
      "Train Epoch: 19 [44800/50000 (90%)]\tLoss: 0.181025\n",
      "\n",
      "Test set: Avg. loss: 0.06616737594604492, Accuracy: 9779/10000 (97.79000091552734%)\n",
      "\n",
      "Train Epoch: 20 [0/50000 (0%)]\tLoss: 0.083963\n",
      "Train Epoch: 20 [6400/50000 (13%)]\tLoss: 0.082923\n",
      "Train Epoch: 20 [12800/50000 (26%)]\tLoss: 0.180913\n",
      "Train Epoch: 20 [19200/50000 (38%)]\tLoss: 0.094219\n",
      "Train Epoch: 20 [25600/50000 (51%)]\tLoss: 0.061028\n",
      "Train Epoch: 20 [32000/50000 (64%)]\tLoss: 0.092766\n",
      "Train Epoch: 20 [38400/50000 (77%)]\tLoss: 0.116097\n",
      "Train Epoch: 20 [44800/50000 (90%)]\tLoss: 0.125405\n",
      "\n",
      "Test set: Avg. loss: 0.06888480491638184, Accuracy: 9769/10000 (97.69000244140625%)\n",
      "\n",
      "Train Epoch: 21 [0/50000 (0%)]\tLoss: 0.131856\n",
      "Train Epoch: 21 [6400/50000 (13%)]\tLoss: 0.178266\n",
      "Train Epoch: 21 [12800/50000 (26%)]\tLoss: 0.119722\n",
      "Train Epoch: 21 [19200/50000 (38%)]\tLoss: 0.299481\n",
      "Train Epoch: 21 [25600/50000 (51%)]\tLoss: 0.061605\n",
      "Train Epoch: 21 [32000/50000 (64%)]\tLoss: 0.240637\n",
      "Train Epoch: 21 [38400/50000 (77%)]\tLoss: 0.075771\n",
      "Train Epoch: 21 [44800/50000 (90%)]\tLoss: 0.158409\n",
      "\n",
      "Test set: Avg. loss: 0.06913079452514649, Accuracy: 9787/10000 (97.87000274658203%)\n",
      "\n",
      "Train Epoch: 22 [0/50000 (0%)]\tLoss: 0.178351\n",
      "Train Epoch: 22 [6400/50000 (13%)]\tLoss: 0.473209\n",
      "Train Epoch: 22 [12800/50000 (26%)]\tLoss: 0.317889\n",
      "Train Epoch: 22 [19200/50000 (38%)]\tLoss: 0.160602\n",
      "Train Epoch: 22 [25600/50000 (51%)]\tLoss: 0.087458\n",
      "Train Epoch: 22 [32000/50000 (64%)]\tLoss: 0.054898\n",
      "Train Epoch: 22 [38400/50000 (77%)]\tLoss: 0.115361\n",
      "Train Epoch: 22 [44800/50000 (90%)]\tLoss: 0.056711\n",
      "\n",
      "Test set: Avg. loss: 0.0595993034362793, Accuracy: 9818/10000 (98.18000030517578%)\n",
      "\n",
      "Train Epoch: 23 [0/50000 (0%)]\tLoss: 0.220113\n",
      "Train Epoch: 23 [6400/50000 (13%)]\tLoss: 0.273424\n",
      "Train Epoch: 23 [12800/50000 (26%)]\tLoss: 0.091851\n",
      "Train Epoch: 23 [19200/50000 (38%)]\tLoss: 0.298557\n",
      "Train Epoch: 23 [25600/50000 (51%)]\tLoss: 0.151951\n",
      "Train Epoch: 23 [32000/50000 (64%)]\tLoss: 0.156624\n",
      "Train Epoch: 23 [38400/50000 (77%)]\tLoss: 0.099935\n",
      "Train Epoch: 23 [44800/50000 (90%)]\tLoss: 0.161665\n",
      "\n",
      "Test set: Avg. loss: 0.06537977294921875, Accuracy: 9788/10000 (97.87999725341797%)\n",
      "\n",
      "Train Epoch: 24 [0/50000 (0%)]\tLoss: 0.159430\n",
      "Train Epoch: 24 [6400/50000 (13%)]\tLoss: 0.122572\n",
      "Train Epoch: 24 [12800/50000 (26%)]\tLoss: 0.200526\n",
      "Train Epoch: 24 [19200/50000 (38%)]\tLoss: 0.113385\n",
      "Train Epoch: 24 [25600/50000 (51%)]\tLoss: 0.059485\n",
      "Train Epoch: 24 [32000/50000 (64%)]\tLoss: 0.105146\n",
      "Train Epoch: 24 [38400/50000 (77%)]\tLoss: 0.265805\n",
      "Train Epoch: 24 [44800/50000 (90%)]\tLoss: 0.105794\n",
      "\n",
      "Test set: Avg. loss: 0.06100715065002441, Accuracy: 9800/10000 (98.0%)\n",
      "\n",
      "Train Epoch: 25 [0/50000 (0%)]\tLoss: 0.174258\n",
      "Train Epoch: 25 [6400/50000 (13%)]\tLoss: 0.102668\n",
      "Train Epoch: 25 [12800/50000 (26%)]\tLoss: 0.100597\n",
      "Train Epoch: 25 [19200/50000 (38%)]\tLoss: 0.121655\n",
      "Train Epoch: 25 [25600/50000 (51%)]\tLoss: 0.089817\n",
      "Train Epoch: 25 [32000/50000 (64%)]\tLoss: 0.054397\n",
      "Train Epoch: 25 [38400/50000 (77%)]\tLoss: 0.155994\n",
      "Train Epoch: 25 [44800/50000 (90%)]\tLoss: 0.078948\n",
      "\n",
      "Test set: Avg. loss: 0.05870311584472656, Accuracy: 9818/10000 (98.18000030517578%)\n",
      "\n",
      "Train Epoch: 26 [0/50000 (0%)]\tLoss: 0.034746\n",
      "Train Epoch: 26 [6400/50000 (13%)]\tLoss: 0.112794\n",
      "Train Epoch: 26 [12800/50000 (26%)]\tLoss: 0.218525\n",
      "Train Epoch: 26 [19200/50000 (38%)]\tLoss: 0.070229\n",
      "Train Epoch: 26 [25600/50000 (51%)]\tLoss: 0.049506\n",
      "Train Epoch: 26 [32000/50000 (64%)]\tLoss: 0.143107\n",
      "Train Epoch: 26 [38400/50000 (77%)]\tLoss: 0.058407\n",
      "Train Epoch: 26 [44800/50000 (90%)]\tLoss: 0.071952\n",
      "\n",
      "Test set: Avg. loss: 0.06835459022521972, Accuracy: 9779/10000 (97.79000091552734%)\n",
      "\n",
      "Train Epoch: 27 [0/50000 (0%)]\tLoss: 0.088240\n",
      "Train Epoch: 27 [6400/50000 (13%)]\tLoss: 0.049012\n",
      "Train Epoch: 27 [12800/50000 (26%)]\tLoss: 0.104746\n",
      "Train Epoch: 27 [19200/50000 (38%)]\tLoss: 0.075092\n",
      "Train Epoch: 27 [25600/50000 (51%)]\tLoss: 0.126180\n",
      "Train Epoch: 27 [32000/50000 (64%)]\tLoss: 0.036442\n",
      "Train Epoch: 27 [38400/50000 (77%)]\tLoss: 0.037043\n",
      "Train Epoch: 27 [44800/50000 (90%)]\tLoss: 0.146174\n",
      "\n",
      "Test set: Avg. loss: 0.05923243408203125, Accuracy: 9824/10000 (98.23999786376953%)\n",
      "\n",
      "Train Epoch: 28 [0/50000 (0%)]\tLoss: 0.045155\n",
      "Train Epoch: 28 [6400/50000 (13%)]\tLoss: 0.465111\n",
      "Train Epoch: 28 [12800/50000 (26%)]\tLoss: 0.122728\n",
      "Train Epoch: 28 [19200/50000 (38%)]\tLoss: 0.105420\n",
      "Train Epoch: 28 [25600/50000 (51%)]\tLoss: 0.136431\n",
      "Train Epoch: 28 [32000/50000 (64%)]\tLoss: 0.098573\n",
      "Train Epoch: 28 [38400/50000 (77%)]\tLoss: 0.130342\n",
      "Train Epoch: 28 [44800/50000 (90%)]\tLoss: 0.077540\n",
      "\n",
      "Test set: Avg. loss: 0.06293857192993164, Accuracy: 9803/10000 (98.02999877929688%)\n",
      "\n",
      "Train Epoch: 29 [0/50000 (0%)]\tLoss: 0.079075\n",
      "Train Epoch: 29 [6400/50000 (13%)]\tLoss: 0.119666\n",
      "Train Epoch: 29 [12800/50000 (26%)]\tLoss: 0.067098\n",
      "Train Epoch: 29 [19200/50000 (38%)]\tLoss: 0.029912\n",
      "Train Epoch: 29 [25600/50000 (51%)]\tLoss: 0.042653\n",
      "Train Epoch: 29 [32000/50000 (64%)]\tLoss: 0.070984\n",
      "Train Epoch: 29 [38400/50000 (77%)]\tLoss: 0.090581\n",
      "Train Epoch: 29 [44800/50000 (90%)]\tLoss: 0.060798\n",
      "\n",
      "Test set: Avg. loss: 0.05828792686462402, Accuracy: 9829/10000 (98.29000091552734%)\n",
      "\n",
      "Train Epoch: 30 [0/50000 (0%)]\tLoss: 0.127232\n",
      "Train Epoch: 30 [6400/50000 (13%)]\tLoss: 0.063184\n",
      "Train Epoch: 30 [12800/50000 (26%)]\tLoss: 0.134250\n",
      "Train Epoch: 30 [19200/50000 (38%)]\tLoss: 0.052346\n",
      "Train Epoch: 30 [25600/50000 (51%)]\tLoss: 0.067164\n",
      "Train Epoch: 30 [32000/50000 (64%)]\tLoss: 0.079551\n",
      "Train Epoch: 30 [38400/50000 (77%)]\tLoss: 0.048758\n",
      "Train Epoch: 30 [44800/50000 (90%)]\tLoss: 0.052816\n",
      "\n",
      "Test set: Avg. loss: 0.05546610527038574, Accuracy: 9820/10000 (98.19999694824219%)\n",
      "\n",
      "Train Epoch: 31 [0/50000 (0%)]\tLoss: 0.168527\n",
      "Train Epoch: 31 [6400/50000 (13%)]\tLoss: 0.093838\n",
      "Train Epoch: 31 [12800/50000 (26%)]\tLoss: 0.112784\n",
      "Train Epoch: 31 [19200/50000 (38%)]\tLoss: 0.321207\n",
      "Train Epoch: 31 [25600/50000 (51%)]\tLoss: 0.066420\n",
      "Train Epoch: 31 [32000/50000 (64%)]\tLoss: 0.090441\n",
      "Train Epoch: 31 [38400/50000 (77%)]\tLoss: 0.064263\n",
      "Train Epoch: 31 [44800/50000 (90%)]\tLoss: 0.088941\n",
      "\n",
      "Test set: Avg. loss: 0.05392267761230469, Accuracy: 9829/10000 (98.29000091552734%)\n",
      "\n",
      "Train Epoch: 32 [0/50000 (0%)]\tLoss: 0.168345\n",
      "Train Epoch: 32 [6400/50000 (13%)]\tLoss: 0.152402\n",
      "Train Epoch: 32 [12800/50000 (26%)]\tLoss: 0.170962\n",
      "Train Epoch: 32 [19200/50000 (38%)]\tLoss: 0.159728\n",
      "Train Epoch: 32 [25600/50000 (51%)]\tLoss: 0.118936\n",
      "Train Epoch: 32 [32000/50000 (64%)]\tLoss: 0.074039\n",
      "Train Epoch: 32 [38400/50000 (77%)]\tLoss: 0.039486\n",
      "Train Epoch: 32 [44800/50000 (90%)]\tLoss: 0.092183\n",
      "\n",
      "Test set: Avg. loss: 0.05438341369628906, Accuracy: 9834/10000 (98.33999633789062%)\n",
      "\n",
      "Train Epoch: 33 [0/50000 (0%)]\tLoss: 0.050957\n",
      "Train Epoch: 33 [6400/50000 (13%)]\tLoss: 0.033785\n",
      "Train Epoch: 33 [12800/50000 (26%)]\tLoss: 0.295287\n",
      "Train Epoch: 33 [19200/50000 (38%)]\tLoss: 0.079687\n",
      "Train Epoch: 33 [25600/50000 (51%)]\tLoss: 0.102133\n",
      "Train Epoch: 33 [32000/50000 (64%)]\tLoss: 0.300935\n",
      "Train Epoch: 33 [38400/50000 (77%)]\tLoss: 0.013230\n",
      "Train Epoch: 33 [44800/50000 (90%)]\tLoss: 0.017555\n",
      "\n",
      "Test set: Avg. loss: 0.06040206184387207, Accuracy: 9825/10000 (98.25%)\n",
      "\n",
      "Train Epoch: 34 [0/50000 (0%)]\tLoss: 0.050913\n",
      "Train Epoch: 34 [6400/50000 (13%)]\tLoss: 0.040269\n",
      "Train Epoch: 34 [12800/50000 (26%)]\tLoss: 0.058827\n",
      "Train Epoch: 34 [19200/50000 (38%)]\tLoss: 0.061690\n",
      "Train Epoch: 34 [25600/50000 (51%)]\tLoss: 0.094594\n",
      "Train Epoch: 34 [32000/50000 (64%)]\tLoss: 0.062789\n",
      "Train Epoch: 34 [38400/50000 (77%)]\tLoss: 0.056700\n",
      "Train Epoch: 34 [44800/50000 (90%)]\tLoss: 0.105730\n",
      "\n",
      "Test set: Avg. loss: 0.05250537071228027, Accuracy: 9830/10000 (98.30000305175781%)\n",
      "\n",
      "Train Epoch: 35 [0/50000 (0%)]\tLoss: 0.101925\n",
      "Train Epoch: 35 [6400/50000 (13%)]\tLoss: 0.297350\n",
      "Train Epoch: 35 [12800/50000 (26%)]\tLoss: 0.148991\n",
      "Train Epoch: 35 [19200/50000 (38%)]\tLoss: 0.043566\n",
      "Train Epoch: 35 [25600/50000 (51%)]\tLoss: 0.076488\n",
      "Train Epoch: 35 [32000/50000 (64%)]\tLoss: 0.054792\n",
      "Train Epoch: 35 [38400/50000 (77%)]\tLoss: 0.027467\n",
      "Train Epoch: 35 [44800/50000 (90%)]\tLoss: 0.184143\n",
      "\n",
      "Test set: Avg. loss: 0.05060882720947266, Accuracy: 9839/10000 (98.38999938964844%)\n",
      "\n",
      "Train Epoch: 36 [0/50000 (0%)]\tLoss: 0.042330\n",
      "Train Epoch: 36 [6400/50000 (13%)]\tLoss: 0.040379\n",
      "Train Epoch: 36 [12800/50000 (26%)]\tLoss: 0.231805\n",
      "Train Epoch: 36 [19200/50000 (38%)]\tLoss: 0.073374\n",
      "Train Epoch: 36 [25600/50000 (51%)]\tLoss: 0.026929\n",
      "Train Epoch: 36 [32000/50000 (64%)]\tLoss: 0.083594\n",
      "Train Epoch: 36 [38400/50000 (77%)]\tLoss: 0.091318\n",
      "Train Epoch: 36 [44800/50000 (90%)]\tLoss: 0.165600\n",
      "\n",
      "Test set: Avg. loss: 0.05095274868011475, Accuracy: 9842/10000 (98.41999816894531%)\n",
      "\n",
      "Train Epoch: 37 [0/50000 (0%)]\tLoss: 0.068717\n",
      "Train Epoch: 37 [6400/50000 (13%)]\tLoss: 0.132824\n",
      "Train Epoch: 37 [12800/50000 (26%)]\tLoss: 0.055965\n",
      "Train Epoch: 37 [19200/50000 (38%)]\tLoss: 0.037400\n",
      "Train Epoch: 37 [25600/50000 (51%)]\tLoss: 0.134641\n",
      "Train Epoch: 37 [32000/50000 (64%)]\tLoss: 0.053921\n",
      "Train Epoch: 37 [38400/50000 (77%)]\tLoss: 0.092374\n",
      "Train Epoch: 37 [44800/50000 (90%)]\tLoss: 0.101397\n",
      "\n",
      "Test set: Avg. loss: 0.0524072250366211, Accuracy: 9833/10000 (98.33000183105469%)\n",
      "\n",
      "Train Epoch: 38 [0/50000 (0%)]\tLoss: 0.136787\n",
      "Train Epoch: 38 [6400/50000 (13%)]\tLoss: 0.037445\n",
      "Train Epoch: 38 [12800/50000 (26%)]\tLoss: 0.031293\n",
      "Train Epoch: 38 [19200/50000 (38%)]\tLoss: 0.069323\n",
      "Train Epoch: 38 [25600/50000 (51%)]\tLoss: 0.043801\n",
      "Train Epoch: 38 [32000/50000 (64%)]\tLoss: 0.019945\n",
      "Train Epoch: 38 [38400/50000 (77%)]\tLoss: 0.149782\n",
      "Train Epoch: 38 [44800/50000 (90%)]\tLoss: 0.165437\n",
      "\n",
      "Test set: Avg. loss: 0.059229864501953125, Accuracy: 9820/10000 (98.19999694824219%)\n",
      "\n",
      "Train Epoch: 39 [0/50000 (0%)]\tLoss: 0.034672\n",
      "Train Epoch: 39 [6400/50000 (13%)]\tLoss: 0.094581\n",
      "Train Epoch: 39 [12800/50000 (26%)]\tLoss: 0.045471\n",
      "Train Epoch: 39 [19200/50000 (38%)]\tLoss: 0.057761\n",
      "Train Epoch: 39 [25600/50000 (51%)]\tLoss: 0.030468\n",
      "Train Epoch: 39 [32000/50000 (64%)]\tLoss: 0.116664\n",
      "Train Epoch: 39 [38400/50000 (77%)]\tLoss: 0.149546\n",
      "Train Epoch: 39 [44800/50000 (90%)]\tLoss: 0.026510\n",
      "\n",
      "Test set: Avg. loss: 0.056145475387573245, Accuracy: 9824/10000 (98.23999786376953%)\n",
      "\n",
      "Train Epoch: 40 [0/50000 (0%)]\tLoss: 0.148948\n",
      "Train Epoch: 40 [6400/50000 (13%)]\tLoss: 0.036237\n",
      "Train Epoch: 40 [12800/50000 (26%)]\tLoss: 0.190032\n",
      "Train Epoch: 40 [19200/50000 (38%)]\tLoss: 0.164978\n",
      "Train Epoch: 40 [25600/50000 (51%)]\tLoss: 0.088700\n",
      "Train Epoch: 40 [32000/50000 (64%)]\tLoss: 0.134255\n",
      "Train Epoch: 40 [38400/50000 (77%)]\tLoss: 0.050827\n",
      "Train Epoch: 40 [44800/50000 (90%)]\tLoss: 0.030276\n",
      "\n",
      "Test set: Avg. loss: 0.04879776268005371, Accuracy: 9841/10000 (98.41000366210938%)\n",
      "\n"
     ]
    }
   ],
   "source": [
    "test()\n",
    "for epoch in range(1, n_epochs + 1):\n",
    "    train(epoch)\n",
    "    test()"
   ]
  },
  {
   "cell_type": "code",
   "execution_count": 20,
   "id": "6391746a-65be-46dd-a90e-dd4f97bc3f30",
   "metadata": {},
   "outputs": [
    {
     "data": {
      "text/plain": [
       "Text(0, 0.5, 'negative log likelihood loss')"
      ]
     },
     "execution_count": 20,
     "metadata": {},
     "output_type": "execute_result"
    },
    {
     "data": {
      "image/png": "[encoded data removed]",
      "text/plain": [
       "<Figure size 432x288 with 1 Axes>"
      ]
     },
     "metadata": {
      "needs_background": "light"
     },
     "output_type": "display_data"
    }
   ],
   "source": [
    "fig = plt.figure()\n",
    "plt.plot(train_counter, train_losses, color='blue')\n",
    "plt.scatter(test_counter, test_losses, color='red')\n",
    "plt.legend(['Train Loss', 'Test Loss'], loc='upper right')\n",
    "plt.xlabel('number of training examples seen')\n",
    "plt.ylabel('negative log likelihood loss')"
   ]
  },
  {
   "cell_type": "code",
   "execution_count": 21,
   "id": "e947a9fb-9c7f-4981-a63f-0805c5f5e1c5",
   "metadata": {},
   "outputs": [],
   "source": [
    "examples = enumerate(test_loader)\n",
    "batch_idx, (example_data, example_targets) = next(examples)\n",
    "ex = example_data.reshape(-1, 1, 28, 28)"
   ]
  },
  {
   "cell_type": "code",
   "execution_count": 27,
   "id": "7a99eceb-9430-4ffb-a85d-dfb2ac35f634",
   "metadata": {},
   "outputs": [
    {
     "name": "stderr",
     "output_type": "stream",
     "text": [
      "<ipython-input-15-2b8acc169c88>:18: UserWarning: Implicit dimension choice for log_softmax has been deprecated. Change the call to include dim=X as an argument.\n",
      "  return F.log_softmax(x)\n"
     ]
    }
   ],
   "source": [
    "with torch.no_grad():\n",
    "    \n",
    "    output = network(ex)"
   ]
  },
  {
   "cell_type": "code",
   "execution_count": 36,
   "id": "61b87664-bef5-4e6f-bcea-071efe095532",
   "metadata": {
    "tags": []
   },
   "outputs": [
    {
     "data": {
      "text/plain": [
       "torch.Size([1, 28, 28])"
      ]
     },
     "execution_count": 36,
     "metadata": {},
     "output_type": "execute_result"
    }
   ],
   "source": [
    "ex[0].shape"
   ]
  },
  {
   "cell_type": "code",
   "execution_count": 37,
   "id": "b14ee57c-3b89-4aa5-8926-61e9ada5ba14",
   "metadata": {},
   "outputs": [
    {
     "name": "stderr",
     "output_type": "stream",
     "text": [
      "<ipython-input-15-2b8acc169c88>:18: UserWarning: Implicit dimension choice for log_softmax has been deprecated. Change the call to include dim=X as an argument.\n",
      "  return F.log_softmax(x)\n"
     ]
    },
    {
     "data": {
      "text/plain": [
       "tensor([[-1.3528e+01, -1.0613e+01, -1.6051e+01, -2.1122e+01, -1.1946e+01,\n",
       "         -1.0950e+01, -8.8710e+00, -1.6187e+01, -1.9060e-04, -1.6488e+01]],\n",
       "       grad_fn=<LogSoftmaxBackward0>)"
      ]
     },
     "execution_count": 37,
     "metadata": {},
     "output_type": "execute_result"
    }
   ],
   "source": [
    "output = network(ex[0])\n",
    "output"
   ]
  },
  {
   "cell_type": "code",
   "execution_count": 38,
   "id": "25e013d4-c155-4ce6-928e-80d142817e82",
   "metadata": {},
   "outputs": [
    {
     "data": {
      "text/plain": [
       "torch.Tensor"
      ]
     },
     "execution_count": 38,
     "metadata": {},
     "output_type": "execute_result"
    }
   ],
   "source": [
    "type(output)"
   ]
  },
  {
   "cell_type": "code",
   "execution_count": 31,
   "id": "f106b914-434d-4b03-b849-4affaa823d16",
   "metadata": {},
   "outputs": [
    {
     "data": {
      "text/plain": [
       "8"
      ]
     },
     "execution_count": 31,
     "metadata": {},
     "output_type": "execute_result"
    }
   ],
   "source": [
    "output.data.max(1, keepdim=True)[1].item()"
   ]
  },
  {
   "cell_type": "code",
   "execution_count": 26,
   "id": "6ef8dd6d-86bc-4b9c-b286-c8f85c9ddd42",
   "metadata": {},
   "outputs": [
    {
     "data": {
      "text/plain": [
       "tensor(8)"
      ]
     },
     "execution_count": 26,
     "metadata": {},
     "output_type": "execute_result"
    }
   ],
   "source": [
    "example_targets[0]"
   ]
  },
  {
   "cell_type": "code",
   "execution_count": 23,
   "id": "9ffe3516-0ad9-4b1e-9639-dc0463df09a8",
   "metadata": {},
   "outputs": [
    {
     "data": {
      "image/png": "[encoded data removed]",
      "text/plain": [
       "<Figure size 1008x432 with 10 Axes>"
      ]
     },
     "metadata": {},
     "output_type": "display_data"
    }
   ],
   "source": [
    "fig = plt.figure(figsize=(14, 6))\n",
    "for i in range(10):\n",
    "    plt.subplot(2,5,i+1)\n",
    "    #plt.tight_layout()\n",
    "    plt.imshow(example_data[i], cmap='gray', interpolation='none')\n",
    "    plt.title(\"Prediction: {} Truth: {}\".format(output.data.max(1, keepdim=True)[1][i].item(), example_targets[i]))\n",
    "    plt.xticks([])\n",
    "    plt.yticks([])"
   ]
  },
  {
   "cell_type": "code",
   "execution_count": null,
   "id": "21150e4f-e249-4445-a915-ece674c5d2e9",
   "metadata": {},
   "outputs": [],
   "source": []
  }
 ],
 "metadata": {
  "kernelspec": {
   "display_name": "Python 3",
   "language": "python",
   "name": "python3"
  },
  "language_info": {
   "codemirror_mode": {
    "name": "ipython",
    "version": 3
   },
   "file_extension": ".py",
   "mimetype": "text/x-python",
   "name": "python",
   "nbconvert_exporter": "python",
   "pygments_lexer": "ipython3",
   "version": "3.9.13"
  }
 },
 "nbformat": 4,
 "nbformat_minor": 5
}
